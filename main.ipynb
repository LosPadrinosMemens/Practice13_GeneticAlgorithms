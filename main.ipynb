{
 "cells": [
  {
   "cell_type": "code",
   "execution_count": 1,
   "metadata": {},
   "outputs": [],
   "source": [
    "from functions import *"
   ]
  },
  {
   "cell_type": "code",
   "execution_count": 2,
   "metadata": {},
   "outputs": [],
   "source": [
    "ex1 = read_csv_to_tuples(\"inputs/example1_2D.csv\")"
   ]
  },
  {
   "cell_type": "code",
   "execution_count": 5,
   "metadata": {},
   "outputs": [
    {
     "data": {
      "text/plain": [
       "[(0.0, 1.0),\n",
       " (0.25, 0.75),\n",
       " (0.5, 0.5),\n",
       " (0.75, 0.25),\n",
       " (1.0, 0.0),\n",
       " (1.0, 1.0),\n",
       " (0.25, 0.9),\n",
       " (0.0, 2.0),\n",
       " (0.85, 2.0),\n",
       " (2.0, 2.0),\n",
       " (0.5, 1.5),\n",
       " (2.0, 0.5),\n",
       " (1.5, 0.1),\n",
       " (0.15, 3.0),\n",
       " (2.0, 2.5),\n",
       " (1.5, 2.6),\n",
       " (1.2, 3.0),\n",
       " (0.5, 2.5),\n",
       " (1.8, 3.2)]"
      ]
     },
     "execution_count": 5,
     "metadata": {},
     "output_type": "execute_result"
    }
   ],
   "source": [
    "ex1"
   ]
  },
  {
   "cell_type": "code",
   "execution_count": 6,
   "metadata": {},
   "outputs": [],
   "source": [
    "ex2 = read_csv_to_tuples(\"inputs/example1_2D.csv\")"
   ]
  },
  {
   "cell_type": "code",
   "execution_count": 6,
   "metadata": {},
   "outputs": [],
   "source": [
    "a = set([1,3,4,5])"
   ]
  },
  {
   "cell_type": "code",
   "execution_count": 7,
   "metadata": {},
   "outputs": [
    {
     "data": {
      "text/plain": [
       "4"
      ]
     },
     "execution_count": 7,
     "metadata": {},
     "output_type": "execute_result"
    }
   ],
   "source": [
    "len(a)"
   ]
  },
  {
   "cell_type": "code",
   "execution_count": 3,
   "metadata": {},
   "outputs": [
    {
     "name": "stdout",
     "output_type": "stream",
     "text": [
      "1\n",
      "19\n",
      "5\n",
      "2\n",
      "14\n",
      "3\n",
      "3\n",
      "11\n",
      "4\n",
      "4\n",
      "7\n",
      "2\n",
      "5\n",
      "5\n",
      "3\n",
      "6\n",
      "2\n",
      "2\n"
     ]
    },
    {
     "data": {
      "text/plain": [
       "[{(0.0, 1.0), (0.25, 0.75), (0.5, 0.5), (0.75, 0.25), (1.0, 0.0)},\n",
       " {(0.0, 2.0), (0.25, 0.9), (1.5, 0.1)},\n",
       " {(0.15, 3.0), (0.5, 1.5), (1.0, 1.0), (2.0, 0.5)},\n",
       " {(0.5, 2.5), (0.85, 2.0)},\n",
       " {(1.2, 3.0), (1.5, 2.6), (2.0, 2.0)},\n",
       " {(1.8, 3.2), (2.0, 2.5)}]"
      ]
     },
     "execution_count": 3,
     "metadata": {},
     "output_type": "execute_result"
    }
   ],
   "source": [
    "define_layers(ex1)"
   ]
  }
 ],
 "metadata": {
  "kernelspec": {
   "display_name": "my_env",
   "language": "python",
   "name": "python3"
  },
  "language_info": {
   "codemirror_mode": {
    "name": "ipython",
    "version": 3
   },
   "file_extension": ".py",
   "mimetype": "text/x-python",
   "name": "python",
   "nbconvert_exporter": "python",
   "pygments_lexer": "ipython3",
   "version": "3.9.19"
  }
 },
 "nbformat": 4,
 "nbformat_minor": 2
}
